{
 "cells": [
  {
   "cell_type": "markdown",
   "metadata": {},
   "source": [
    "### <b> Trabalho Final - Inteligência Computacional Aplicada (TIP7077) </b>\n",
    "#### <b> Aluno: Carlos Eduardo Sousa Lima </b>\n",
    "#### <b> Prof. Guilherme de Alencar Barreto </b>\n",
    "***"
   ]
  },
  {
   "cell_type": "markdown",
   "metadata": {},
   "source": [
    "#### <b>Questão 01 - Classificação de Padrões - MNIST database of handwritten digits </b>"
   ]
  },
  {
   "cell_type": "markdown",
   "metadata": {},
   "source": [
    "<div style='text-align: justify;'>\n",
    "As classes e funções apresentadas no bloco de código abaixo foram comuns a todos os classificadores implementados. Nelas, estão implementadas a leitura dos dados, adequação da codificação do vetor de saída (alvo) e normalização dos dados. A seguir, cada uma delas é melhor descrita:\n",
    "</div>\n",
    "\n",
    "- MNIST_data:<br>\n",
    "    <div style='text-align: justify;'>\n",
    "    \n",
    "    Essa classe foi criada para conter as funções de aquisição dos dados de treino <b>get_train_data()</b> e dados de teste <b>get_test_data()</b>. Essas funções utilizam a biblioteca mnist (#https://pypi.org/project/python-mnist/#description), a qual, a partir dos dados obtidos em http://yann.lecun.org/exdb/mnist/index.html, descomprime e transforma-os em um objeto Numpy Array (np.array). Cada uma dessas funções retornam dois objetos np.array, um com os dados de entrada e o outro com seus respectivos labels. Os dados de entrada são retornados de forma vetorizada, ou seja, a matriz $28{\\times}28$ é empilhada dando origem a um vetor $784{\\times}1$. Os labels são o valor inteiro entre 0 e 9 que esse vetor representa.\n",
    "\n",
    "    Cabe destacar que a base de dados de treino possuem 60.000 elementos e a de teste 10.000 elementos. Dessa forma, os dados de entrada formam uma matriz $60.000{\\times}738$, para a base de treino, e $10.000{\\times}738$, para a base de teste. Os labels, por sua vez, forma um vetor de $60.000{\\times}1$, para a base de treino, e $10.000{\\times}1$, para a base de teste</div>\n",
    "\n",
    "    <div style='text-align: justify;' class=\"alert alert-block alert-info\">\n",
    "    \n",
    "    Nota-se que cada elemento representa uma linha e suas características são ordenadas ao longo de suas colunas, o que diverge da ordenação empregada ao longo da disciplina. Optou-se por manter essa ordenação, assim, algumas operações matriciais podem apresentar uma ordem contrária à apresentada nas notas de aula, por exemplo:\n",
    "\n",
    "    $\\vec{y} = \\tilde{W} \\cdot \\vec{x}$ (notas de aula)<br> \n",
    "    $\\vec{y} = \\vec{x} \\cdot \\tilde{W}$ (seguindo a notação adotada no trabalho)\n",
    "    </div>\n",
    "\n",
    "\n",
    "- one_hot_enconding():\n",
    "    <div style='text-align: justify;'>\n",
    "        \n",
    "    Essa função altera o formato do vetor labels. Para cada elemento da base de dados de entrada do MNIST, seja a de treino ou de teste, existirá um label que representará o valor associado a esse elemento da base de dados. Tomando como exemplo os dados de treino, sua base de dados terá dimensão $60.000{\\times}738$, visto que o procedimento de obtenção dos dados retorna esses dados de forma vetorizada. No caso dos seu respectivo vetor de label ($\\vec{y}$), ele terá dimensão $60.000{\\times}1$.\n",
    "\n",
    "    Os possíveis valores de cada um dos elementos contidos no vetor de labels são representados por $x \\in [0,9]$, tal que $x \\in \\Z$. A função aqui descrita, portanto, cria uma nova codificação para os labels baseada na codificação one-hot. Como $x$ pode assumir 10 valores (classes), cada elemento do vetor de labels dará origem a um vetor de cardinalidade igual 10. Portanto, após a aplicação dessa função, o vetor de label $\\vec{y}$ passará a ter dimensão $60.000{\\times}10$, para a base de treino, e $10.000{\\times}10$, para a base de teste. \n",
    "\n",
    "    Esse vetor terá valor igual a 1 no índice que coincide com o valor representando no respectivo elemento do vetor de labels original, nos demais índices receberá o valor 0. Exemplificando, após a utilização da função one_hot_enconding(): <br>\n",
    "    \n",
    "    - $0 \\rightarrow [1, 0, 0, 0, 0, 0, 0, 0, 0, 0]$ <br>\n",
    "    - $1 \\rightarrow [0, 1, 0, 0, 0, 0, 0, 0, 0, 0]$ <br>\n",
    "    - $ \\,\\vdots \\rightarrow \\quad\\quad\\quad\\quad\\,\\, \\vdots$ <br>\n",
    "    - $9 \\rightarrow [0, 0, 0, 0, 0, 0, 0, 0, 0, 1]$ <br>\n",
    "    \n",
    "    A utilização dessa codificação é interessante, pois assume que os vetores que representam cada classe são ortogonais entre si, ou seja, mutuamente exclusivos. \n",
    "    </div>\n",
    "\n",
    "\n",
    "- norm_data():\n",
    "    <div style='text-align: justify;'>\n",
    "\n",
    "    A MNIST *database of handwritten digits* consiste na representação matricial de imagens de caracteres cursivos. Nessa representação, utiliza-se matrizes quadradas de dimensão $28{\\times}28$, ou seja, cada imagem contém 784 pixels. Em cada um desses pixels, representasse uma tonalidade de cinza, considerando uma escala em que zero é totalmente branco e 255 totalmente preto.\n",
    "\n",
    "    Como supracitado, cada uma dessas matrizes de dados são vetorizadas nas presente analises, dando origem a um vetor de dimensão $1{\\times}p$. Agrupando esses vetores em linhas, obtém-se a matriz de dados de dimensão $n{\\times}p$ utilizada nesse trabalho, sendo $n$ o número de imagens disponibilizadas para treino ou teste e $p = 784$. \n",
    "\n",
    "    A função nomr_data() atua normalizando os valores da escala de tons de cinza associados aos pixels das imagens de caracteres cursivos. Em outras palavras, para cada $n$ elemento da matriz de dados, seja de treino ou de teste, essa função varia intervalo de variação dos valores de $[0,255]$ para $[0,1]$. O processo de normalização é amplamente recomendado para algoritmos de classificação baseado em aprendizado, pois dados de entrada com elevados valores, ou que suas variáveis apresentem grandes diferença na magnitude dos seus valores, podem prejudicar o processo de aprendizado. Para normalização desses dados, adotou-se a seguinte equação:\n",
    "\n",
    "    $$\n",
    "        x^{norm}_{j} = \\frac{x_{j} - x^{max}_{j}}{x^{max}_{j} - x^{min}_{j}}\n",
    "    $$\n",
    "    </div>\n",
    "    \n",
    "\n",
    "\n",
    "    \n"
   ]
  },
  {
   "cell_type": "markdown",
   "metadata": {},
   "source": [
    "<p style=\"page-break-after:always;\"></p>"
   ]
  },
  {
   "cell_type": "code",
   "execution_count": 2,
   "metadata": {},
   "outputs": [],
   "source": [
    "import time\n",
    "import numpy as np\n",
    "from mnist import MNIST #https://pypi.org/project/python-mnist/#description\n",
    "import matplotlib.pyplot as plt\n",
    "import matplotlib.ticker as mtick\n",
    "from collections import namedtuple\n",
    "import warnings\n",
    "warnings.filterwarnings(\"ignore\")\n",
    "\n",
    "class MNIST_data():\n",
    "\n",
    "    def __init__(self):\n",
    "        pass\n",
    "    \n",
    "    def get_train_data():\n",
    "        \n",
    "        mndata = MNIST(\"./\")\n",
    "        mndata.gz = True\n",
    "        x, y = mndata.load_training()\n",
    "\n",
    "        return (np.array(x), np.array(y))\n",
    "    \n",
    "    def get_test_data():\n",
    "        \n",
    "        mndata = MNIST(\"./\")\n",
    "        mndata.gz = True\n",
    "        x, y = mndata.load_testing()\n",
    "\n",
    "        return (np.array(x), np.array(y))\n",
    "\n",
    "def one_hot_enconding(y, n):\n",
    "\n",
    "    y_enc = np.zeros((y.shape[0], n))\n",
    "    for i in range(y.shape[0]):\n",
    "        y_enc[i, y[i]] = 1\n",
    "\n",
    "    return y_enc\n",
    "\n",
    "def norm_data(df):\n",
    "    df_std = np.zeros(df.shape)\n",
    "\n",
    "    for i in range(df.shape[0]):\n",
    "        # df_std[i,:] = (df[i,:] - df[i,:].mean())/(df[i,:].std(ddof = std_ddof))\n",
    "        df_std[i,:] = (df[i,:] - df[i,:].min())/(df[i,:].max() - df[i,:].min())\n",
    "    return df_std"
   ]
  },
  {
   "cell_type": "markdown",
   "metadata": {},
   "source": [
    "##### Avaliando o posto das matrizes dos dados de treino (X) e dados de teste (X_test)"
   ]
  },
  {
   "cell_type": "code",
   "execution_count": 220,
   "metadata": {},
   "outputs": [
    {
     "name": "stdout",
     "output_type": "stream",
     "text": [
      "Dados de entrada (X) - Matriz de Posto Incompleto\n",
      "\n",
      "Dados de entrada (X_test) - Matriz de Posto Incompleto\n",
      "\n"
     ]
    }
   ],
   "source": [
    "X, Y = MNIST_data.get_train_data()\n",
    "X_test, Y_test = MNIST_data.get_test_data()\n",
    "    \n",
    "if np.linalg.matrix_rank(X) == min(X.shape):\n",
    "    print(\"Dados de entrada (X) - Matriz de Posto Completo\\n\")\n",
    "else:\n",
    "    print(\"Dados de entrada (X) - Matriz de Posto Incompleto\\n\")\n",
    "if np.linalg.matrix_rank(X_test) == min(X_test.shape):\n",
    "    print(\"Dados de entrada (X_test) - Matriz de Posto Completo\\n\")\n",
    "else:\n",
    "    print(\"Dados de entrada (X_test) - Matriz de Posto Incompleto\\n\")\n"
   ]
  },
  {
   "cell_type": "markdown",
   "metadata": {},
   "source": [
    "##### Classificador Linear de Mínimos Quadrados"
   ]
  },
  {
   "cell_type": "code",
   "execution_count": 3,
   "metadata": {},
   "outputs": [],
   "source": [
    "# O código está utilizando a orientação nxp\n",
    "# n é o número de amostras, p o número de característica\n",
    "# As operações matriciais apresentam ordem contrária ao apresentando nas notas de aula\n",
    "# Y = W*X (Nota de Aula) - Y = X*W (Presente Código)\n",
    "def LSM_Class(X, Y, X_test, Y_test, Nr):\n",
    "    Nr = 5\n",
    "    tx_ok = np.zeros(Nr)\n",
    "    tic = time.perf_counter()\n",
    "    for r in range(Nr):\n",
    "        rand_index = np.random.permutation(X.shape[0])\n",
    "        X = X[rand_index,:]\n",
    "        Y = Y[rand_index,:]\n",
    "\n",
    "        if X.shape[0] != X.shape[1]:\n",
    "            W = np.linalg.lstsq(X,Y)[0]\n",
    "        else:\n",
    "            W = np.linalg.solve(X,Y)[0]\n",
    "\n",
    "\n",
    "        Y_mod = np.dot(X_test, W)\n",
    "        count_ok = 0\n",
    "\n",
    "        for j in range(Y_mod.shape[0]):\n",
    "            if Y_mod[j,:].argmax() == Y_test[j,:].argmax():\n",
    "                count_ok += 1\n",
    "        \n",
    "        tx_ok[r] = count_ok/Y_mod.shape[0]\n",
    "        print(\"Rodada {} - Taxa de Acerto = {:.2%}\".format(r+1, tx_ok[r]))\n",
    "\n",
    "    toc = time.perf_counter()\n",
    "    \n",
    "    print(\"\\nTaxa de acerto Média = {:.2%}\".format(tx_ok.mean()))\n",
    "    print(\"Taxa de erro Média = {:.2%}\".format(1-tx_ok.mean()))\n",
    "    print(\"Melhor Taxa de Acerto = {:.2%}\".format(tx_ok.max()))\n",
    "    print(\"Pior Taxa de Acerto = {:.2%}\".format(tx_ok.min()))\n",
    "    print(\"Desv. Pad. Taxa de Acerto = {:.2%}\".format(tx_ok.std()))\n",
    "\n",
    "    return(\"Tempo de Calibração e Validação para {} rodadas = {} segundos\".format(Nr, round(toc-tic, 2)))\n",
    "    "
   ]
  },
  {
   "cell_type": "code",
   "execution_count": 4,
   "metadata": {},
   "outputs": [
    {
     "name": "stdout",
     "output_type": "stream",
     "text": [
      "Rodada 1 - Taxa de Acerto = 85.30%\n",
      "Rodada 2 - Taxa de Acerto = 85.34%\n",
      "Rodada 3 - Taxa de Acerto = 85.31%\n",
      "Rodada 4 - Taxa de Acerto = 85.28%\n",
      "Rodada 5 - Taxa de Acerto = 85.33%\n",
      "\n",
      "Taxa de acerto Média = 85.31%\n",
      "Taxa de erro Média = 14.69%\n",
      "Melhor Taxa de Acerto = 85.34%\n",
      "Pior Taxa de Acerto = 85.28%\n",
      "Desv. Pad. Taxa de Acerto = 0.02%\n"
     ]
    },
    {
     "data": {
      "text/plain": [
       "'Tempo de Calibração e Validação para 5 rodadas = 25.28 segundos'"
      ]
     },
     "execution_count": 4,
     "metadata": {},
     "output_type": "execute_result"
    }
   ],
   "source": [
    "X, Y = MNIST_data.get_train_data()\n",
    "X_test, Y_test = MNIST_data.get_test_data()\n",
    "    \n",
    "Y = one_hot_enconding(Y, 10)\n",
    "Y_test = one_hot_enconding(Y_test, 10)\n",
    "\n",
    "X = norm_data(X)\n",
    "X_test = norm_data(X_test)\n",
    "\n",
    "LSM_Class(X, Y, X_test, Y_test, 5)"
   ]
  },
  {
   "cell_type": "markdown",
   "metadata": {},
   "source": [
    "<div style='text-align: justify;'>\n",
    "    \n",
    "De acordo com LeCun *et al.* (1998), o classificador linear baseado em uma rede neural de uma camada (*1-layer NN*), Perceptron Simples???, obteve uma taxa de erro de 12.00% com a base de dados de teste, considerando nenhum pré-processamento desses dados.\n",
    "\n",
    "O Classificador Linear de Mínimos Quadrados (CLMQ), por sua vez, apresenta um desempenho similar, com uma taxa de erro média de 14.68%. O desempenho desse classificador foi considerado satisfatório e evidencia que esse problema de classificação pode ser resolvido satisfatoriamente por uma superfície de decisão linear, ou seja, um problema linearmente separável.\n",
    "\n",
    "Destaca-se que a operação para determinação da matriz $\\tilde{W}$ utilizou o método de eliminação de Gauss, não sendo necessário a inversão explícita de $\\tilde{X}\\tilde{X}^{T}$. Como apresentado, as matrizes de dados de entrada para treino e teste possuem posto incompleto, logo haveria problema nessa inversão explícita supracitada.\n",
    "\n",
    "Destaca-se, também, que o método de eliminação de Gauss possui um menor custo de processamento, sendo eficiente para dados de alta dimensão, como os utilizados no presente trabalho.\n",
    "\n",
    "<div>\n",
    "\n",
    "<div style='text-align: justify;'>\n",
    "<font size=\"2.5\">\n",
    "LeCu, Y.; Bottou, L.; Bengio, Y. and Haffner, P. \"Gradient-based learning applied to document recognition.\" Proceedings of the IEEE, 86(11):2278-2324, November 1998.\n",
    "</font>\n",
    "<div>\n",
    "\n",
    "***"
   ]
  },
  {
   "cell_type": "markdown",
   "metadata": {},
   "source": [
    "##### Perceptron Logístico"
   ]
  },
  {
   "cell_type": "code",
   "execution_count": 5,
   "metadata": {},
   "outputs": [],
   "source": [
    "def act_fun(u, fun):\n",
    "\n",
    "    if fun == \"step\":\n",
    "        u[np.where(u >= 0)] = 1\n",
    "        u[np.where(u < 0)] = 0\n",
    "\n",
    "    elif fun == \"tanh\":\n",
    "        u = np.array(list(map(lambda x: (1-np.exp(-x))/(1+np.exp(-x)), u)))\n",
    "    \n",
    "    elif fun == \"log\":\n",
    "        u = np.array(list(map(lambda x: 1/(1+np.exp(-x)), u)))\n",
    "    \n",
    "    return u \n",
    "\n",
    "def PS (X, Y, X_test, Y_test, eta, Nr, Ne, fun_type):\n",
    "#Função que treina e valida a Perceptron Simples \n",
    "    tx_ok = np.empty((Nr))\n",
    "    best_run = {\"Acc\": 0, \"RMSE\": 0, \"W\": 0}\n",
    "    worst_run = {\"Acc\": 1, \"RMSE\": 0, \"W\": 0}\n",
    "    RMSE_ep = np.empty(0)\n",
    "\n",
    "    if fun_type == \"tanh\":\n",
    "        #codificação da saída fica -1 e 1 para tangente hiperbólica\n",
    "        Y[Y == 0] = -1\n",
    "        Y_test[Y == 0] = -1\n",
    "\n",
    "    tic = time.perf_counter()\n",
    "    for r in range(Nr):\n",
    "        #Não embaralhei a cada rodada, pois os dados de treino sempre serão X e Y\n",
    "        #Assim, como não haverá split do conjunto em dados de treino e teste\n",
    "        #Decidi embaralhar só dentro de cada época\n",
    "        #Inicialização aleatória dos pesos\n",
    "        ###Treino###\n",
    "        W = np.random.rand(Y.shape[1], X.shape[1]+1)\n",
    "        \n",
    "        for ep in range(Ne):\n",
    "            #Embaralhamento da matriz de dados saída\n",
    "            rand_index = np.random.permutation(X.shape[0])\n",
    "            X = X[rand_index, :]\n",
    "            Y = Y[rand_index, :]\n",
    "            RMSE = 0\n",
    "            \n",
    "            for i in range(X.shape[0]):\n",
    "                x = np.append(-1, X[i,:]) #add bias\n",
    "                U = np.dot(W, x)\n",
    "                y = act_fun(U, fun_type)\n",
    "                err = Y[i,:] - y\n",
    "\n",
    "                x = np.expand_dims(x, 1)\n",
    "                err = np.expand_dims(err, 1)\n",
    "\n",
    "                RMSE = RMSE + 0.5*np.power(err, 2).sum()\n",
    "                W = W + eta*np.dot(err, x.T)\n",
    "            \n",
    "            RMSE_ep = np.append(RMSE_ep, RMSE/X.shape[0])\n",
    "\n",
    "        ###Validação###\n",
    "        count = 0\n",
    "        for j in range(X_test.shape[0]):\n",
    "            x = np.append(-1, X_test[j,:])\n",
    "            U = np.dot(W, x)\n",
    "            y = act_fun(U, fun_type)\n",
    "\n",
    "            if Y_test[j,:].argmax() == y.argmax():\n",
    "                count += 1\n",
    "\n",
    "        tx_ok[r] = count/X_test.shape[0]\n",
    "\n",
    "        if tx_ok[r] > best_run[\"Acc\"]:\n",
    "            best_run[\"Acc\"], best_run[\"RMSE\"], best_run[\"W\"] = (tx_ok[r], RMSE_ep, W)\n",
    "\n",
    "\n",
    "        if tx_ok[r] < worst_run[\"Acc\"]:\n",
    "            worst_run[\"Acc\"], worst_run[\"RMSE\"], worst_run[\"W\"] = (tx_ok[r], RMSE_ep, W)\n",
    "        \n",
    "        print(\"Rodada {} - Taxa de acerto = {:.2%}\".format(r+1, tx_ok[r]))\n",
    "    toc = time.perf_counter()\n",
    "\n",
    "    RMSE_ep = RMSE_ep.reshape((Nr,Ne))\n",
    "    fig, ax = plt.subplots()\n",
    "    for i in range(RMSE_ep.shape[0]):\n",
    "        ax.plot(RMSE_ep[i,:], label = \"Rodada {}\".format(i+1))\n",
    "    ax.legend()\n",
    "    ax.set_ylabel(\"RMSE\")\n",
    "    ax.set_xlabel(\"epochs\")\n",
    "\n",
    "    print(\"\\nTaxa de acerto Média = {:.2%}\".format(tx_ok.mean()))\n",
    "    print(\"Taxa de erro Média = {:.2%}\".format(1-tx_ok.mean()))\n",
    "    print(\"Melhor Taxa de Acerto = {:.2%}\".format(tx_ok.max()))\n",
    "    print(\"Pior Taxa de Acerto = {:.2%}\".format(tx_ok.min()))\n",
    "    print(\"Desv. Pad. Taxa de Acerto = {:.2%}\".format(tx_ok.std()))\n",
    "\n",
    "    return(\"Tempo de Calibração e Validação para {} rodadas = {} segundos\".format(Nr, round(toc-tic, 2)))"
   ]
  },
  {
   "cell_type": "code",
   "execution_count": 20,
   "metadata": {},
   "outputs": [
    {
     "name": "stdout",
     "output_type": "stream",
     "text": [
      "Rodada 1 - Taxa de acerto = 90.82%\n",
      "Rodada 2 - Taxa de acerto = 91.35%\n",
      "Rodada 3 - Taxa de acerto = 91.51%\n",
      "Rodada 4 - Taxa de acerto = 91.62%\n",
      "Rodada 5 - Taxa de acerto = 91.61%\n",
      "\n",
      "Taxa de acerto Média = 91.38%\n",
      "Taxa de erro Média = 8.62%\n",
      "Melhor Taxa de Acerto = 91.62%\n",
      "Pior Taxa de Acerto = 90.82%\n",
      "Desv. Pad. Taxa de Acerto = 0.30%\n"
     ]
    },
    {
     "data": {
      "text/plain": [
       "'Tempo de Calibração e Validação para 5 rodadas = 403.03 segundos'"
      ]
     },
     "execution_count": 20,
     "metadata": {},
     "output_type": "execute_result"
    },
    {
     "data": {
      "image/png": "[encoded data removed]",
      "text/plain": [
       "<Figure size 432x288 with 1 Axes>"
      ]
     },
     "metadata": {
      "needs_background": "light"
     },
     "output_type": "display_data"
    }
   ],
   "source": [
    "# O código está utilizando a orientação nxp\n",
    "# n é o número de amostras, p o número de característica\n",
    "# As operações matriciais apresentam ordem contrária ao apresentando nas notas de aula\n",
    "# Y = W*X (Nota de Aula) - Y = X*W (Presente Código)\n",
    "\n",
    "X, Y = MNIST_data.get_train_data()\n",
    "X_test, Y_test = MNIST_data.get_test_data()\n",
    "    \n",
    "Y = one_hot_enconding(Y, 10)\n",
    "Y_test = one_hot_enconding(Y_test, 10)\n",
    "\n",
    "X = norm_data(X)\n",
    "X_test = norm_data(X_test)\n",
    "\n",
    "#PS (X, Y, X_test, Y_test, eta, Nr, Ne, fun_type)\n",
    "PS(X, Y, X_test, Y_test, 0.01, 5, 10, \"log\")"
   ]
  },
  {
   "cell_type": "markdown",
   "metadata": {},
   "source": [
    "***"
   ]
  },
  {
   "cell_type": "markdown",
   "metadata": {},
   "source": [
    "##### PCA"
   ]
  },
  {
   "cell_type": "code",
   "execution_count": 3,
   "metadata": {},
   "outputs": [],
   "source": [
    "def PCA (x_train, x_test, compress, spt_point):\n",
    "    #x dimensão pxn \n",
    "    #p número de variáveis de cada amostra e n número de amostras\n",
    "\n",
    "    #Centralizando os dados\n",
    "    x_train = x_train -  x_train.mean(axis = 1, keepdims = True) \n",
    "    x_test = x_test - x_test.mean(axis = 1, keepdims = True)\n",
    "    \n",
    "    cov_x = np.cov(x_train)\n",
    "\n",
    "    u, l, v = np.linalg.svd(cov_x)\n",
    "\n",
    "    ve = np.cumsum(l)/l.sum()\n",
    "\n",
    "    if compress == True:\n",
    "\n",
    "        sel_index = np.where(ve <= spt_point)\n",
    "        v = v[:,sel_index[0]]\n",
    "\n",
    "        fig, ax = plt.subplots()\n",
    "        ax.plot(ve)\n",
    "        ax.plot(ve[sel_index], c = \"red\", label = \"Dados Selecionados\")\n",
    "        ax.set_ylabel(\"Variância Explicada Acumulada\")\n",
    "        ax.yaxis.set_major_formatter(mtick.PercentFormatter(1))\n",
    "        ax.legend()\n",
    "\n",
    "        z = np.dot(v.T, x_train)\n",
    "        z_test = np.dot(v.T, x_test)\n",
    "    else:\n",
    "        z = np.dot(v.T, x_train)\n",
    "        z_test = np.dot(v.T, x_test)\n",
    "    #Transpor para que Z saia no formato utilizado nos códigos dos classificados\n",
    "    #formato nxp, n número de amostras e p número de características\n",
    "    return (z.T, z_test.T)\n"
   ]
  },
  {
   "cell_type": "markdown",
   "metadata": {},
   "source": [
    "##### PCA + Classificador Linear de Mínimos Quadrados"
   ]
  },
  {
   "cell_type": "code",
   "execution_count": 9,
   "metadata": {},
   "outputs": [
    {
     "name": "stdout",
     "output_type": "stream",
     "text": [
      "Dimensão da matriz de dados de treino antes do PCA: (60000, 784)\n",
      "Dimensão da matriz de dados de teste antes do PCA: (10000, 784)\n",
      "Dimensão da matriz de dados de treino após PCA (95% da variância): (60000, 153)\n",
      "Dimensão da matriz de dados de teste após PCA (95% da variância): (10000, 153)\n",
      "\n",
      "Rodada 1 - Taxa de Acerto = 82.09%\n",
      "Rodada 2 - Taxa de Acerto = 82.09%\n",
      "Rodada 3 - Taxa de Acerto = 82.09%\n",
      "Rodada 4 - Taxa de Acerto = 82.12%\n",
      "Rodada 5 - Taxa de Acerto = 82.09%\n",
      "\n",
      "Taxa de acerto Média = 82.10%\n",
      "Taxa de erro Média = 17.90%\n",
      "Melhor Taxa de Acerto = 82.12%\n",
      "Pior Taxa de Acerto = 82.09%\n",
      "Desv. Pad. Taxa de Acerto = 0.01%\n"
     ]
    },
    {
     "data": {
      "text/plain": [
       "'Tempo de Calibração e Validação para 5 rodadas = 5.12 segundos'"
      ]
     },
     "execution_count": 9,
     "metadata": {},
     "output_type": "execute_result"
    },
    {
     "data": {
      "image/png": "[encoded data removed]",
      "text/plain": [
       "<Figure size 432x288 with 1 Axes>"
      ]
     },
     "metadata": {
      "needs_background": "light"
     },
     "output_type": "display_data"
    }
   ],
   "source": [
    "X, Y = MNIST_data.get_train_data()\n",
    "X_test, Y_test = MNIST_data.get_test_data()\n",
    "\n",
    "Y = one_hot_enconding(Y, 10)\n",
    "Y_test = one_hot_enconding(Y_test, 10)\n",
    "\n",
    "X = norm_data(X)\n",
    "X_test = norm_data(X_test)\n",
    "\n",
    "print(\"Dimensão da matriz de dados de treino antes do PCA: {}\".format(X.shape))\n",
    "print(\"Dimensão da matriz de dados de teste antes do PCA: {}\".format(X_test.shape))\n",
    "#A base de dados do MNIST é disponibilizada no seguinte padrão nxp\n",
    "#n é o número de amostras, p o número de característica\n",
    "#Para aplicação do PCA, deve-se transpor essa matriz para que se torne pxn\n",
    "\n",
    "X, X_test = PCA(X.T, X_test.T, compress = True, spt_point = 0.95)\n",
    "print(\"Dimensão da matriz de dados de treino após PCA (95% da variância): {}\".format(X.shape))\n",
    "print(\"Dimensão da matriz de dados de teste após PCA (95% da variância): {}\\n\".format(X_test.shape))\n",
    "\n",
    "LSM_Class(X, Y, X_test, Y_test, 5)"
   ]
  },
  {
   "cell_type": "markdown",
   "metadata": {},
   "source": [
    "##### PCA + Perceptron Logístico"
   ]
  },
  {
   "cell_type": "code",
   "execution_count": 10,
   "metadata": {},
   "outputs": [
    {
     "name": "stdout",
     "output_type": "stream",
     "text": [
      "Dimensão da matriz de dados de treino antes do PCA: (60000, 784)\n",
      "Dimensão da matriz de dados de teste antes do PCA: (10000, 784)\n",
      "Dimensão da matriz de dados de treino após PCA (95% da variância): (60000, 153)\n",
      "Dimensão da matriz de dados de teste após PCA (95% da variância): (10000, 153)\n",
      "\n",
      "Rodada 1 - Taxa de acerto = 88.23%\n",
      "Rodada 2 - Taxa de acerto = 88.32%\n",
      "Rodada 3 - Taxa de acerto = 88.34%\n",
      "Rodada 4 - Taxa de acerto = 88.40%\n",
      "Rodada 5 - Taxa de acerto = 88.41%\n",
      "\n",
      "Taxa de acerto Média = 88.34%\n",
      "Taxa de erro Média = 11.66%\n",
      "Melhor Taxa de Acerto = 88.41%\n",
      "Pior Taxa de Acerto = 88.23%\n",
      "Desv. Pad. Taxa de Acerto = 0.06%\n"
     ]
    },
    {
     "data": {
      "text/plain": [
       "'Tempo de Calibração e Validação para 5 rodadas = 267.63 segundos'"
      ]
     },
     "execution_count": 10,
     "metadata": {},
     "output_type": "execute_result"
    },
    {
     "data": {
      "image/png": "[encoded data removed]",
      "text/plain": [
       "<Figure size 432x288 with 1 Axes>"
      ]
     },
     "metadata": {
      "needs_background": "light"
     },
     "output_type": "display_data"
    },
    {
     "data": {
      "image/png": "[encoded data removed]",
      "text/plain": [
       "<Figure size 432x288 with 1 Axes>"
      ]
     },
     "metadata": {
      "needs_background": "light"
     },
     "output_type": "display_data"
    }
   ],
   "source": [
    "# O código está utilizando a orientação nxp\n",
    "# n é o número de amostras, p o número de característica\n",
    "# As operações matriciais apresentam ordem contrária ao apresentando nas notas de aula\n",
    "# Y = W*X (Nota de Aula) - Y = X*W (Presente Código)\n",
    "\n",
    "X, Y = MNIST_data.get_train_data()\n",
    "X_test, Y_test = MNIST_data.get_test_data()\n",
    "    \n",
    "Y = one_hot_enconding(Y, 10)\n",
    "Y_test = one_hot_enconding(Y_test, 10)\n",
    "\n",
    "X = norm_data(X)\n",
    "X_test = norm_data(X_test)\n",
    "\n",
    "print(\"Dimensão da matriz de dados de treino antes do PCA: {}\".format(X.shape))\n",
    "print(\"Dimensão da matriz de dados de teste antes do PCA: {}\".format(X_test.shape))\n",
    "#A base de dados do MNIST é disponibilizada no seguinte padrão nxp\n",
    "#n é o número de amostras, p o número de característica\n",
    "#Para aplicação do PCA, deve-se transpor essa matriz para que se torne pxn\n",
    "\n",
    "X, X_test = PCA(X.T, X_test.T, compress = True, spt_point = 0.95)\n",
    "print(\"Dimensão da matriz de dados de treino após PCA (95% da variância): {}\".format(X.shape))\n",
    "print(\"Dimensão da matriz de dados de teste após PCA (95% da variância): {}\\n\".format(X_test.shape))\n",
    "\n",
    "#PS (X, Y, X_test, Y_test, eta, Nr, Ne, fun_type)\n",
    "PS(X, Y, X_test, Y_test, 0.01, 5, 10, \"log\")"
   ]
  },
  {
   "cell_type": "markdown",
   "metadata": {},
   "source": [
    "***"
   ]
  },
  {
   "cell_type": "markdown",
   "metadata": {},
   "source": [
    "##### MLP"
   ]
  },
  {
   "cell_type": "code",
   "execution_count": 4,
   "metadata": {},
   "outputs": [],
   "source": [
    "def act_fun(u, fun):\n",
    "    action_fun = namedtuple(\"act_fun\", [\"f\", \"df\"])\n",
    "    if fun == \"step\":\n",
    "        u[np.where(u >= 0)] = 1\n",
    "        u[np.where(u < 0)] = 0\n",
    "        du = np.nan\n",
    "    elif fun == \"tanh\":\n",
    "        u = np.array(list(map(lambda x: (1-np.exp(-x))/(1+np.exp(-x)), u)))\n",
    "        du = 0.5*(1-np.power(u,2)) + 0.05\n",
    "    elif fun == \"log\":\n",
    "        u = np.array(list(map(lambda x: 1/(1+np.exp(-x)), u)))\n",
    "        du = u*(1-u) + 0.05\n",
    "    return (action_fun(f = u, df = du))\n",
    "\n",
    "def Hardamad_Prod(a, b):\n",
    "    \n",
    "    prod = np.array([np.multiply(x,y) for x, y in zip(a,b)])\n",
    "\n",
    "    return prod\n",
    "\n",
    "def weight_matrix(dict_q):\n",
    "    #Cria as matrizes de peso sinapticos\n",
    "    #Mantendo a compatibilidade entre as dimensões de forma que viabiliza as operações matriciais\n",
    "\n",
    "    W = {}\n",
    "    for i in range(len(dict_q)):\n",
    "        if i == 0:\n",
    "        #camada oculta\n",
    "            W[i] = np.random.rand(dict_q[i], X.shape[1] + 1)*0.01\n",
    "        else:\n",
    "        #Demais camadas, se houver\n",
    "            W[i] = np.random.rand(dict_q[i], dict_q[i-1] + 1)*0.01\n",
    "    return (W)\n",
    "    \n",
    "def MLP(X, Y, X_test, Y_test, eta, Nr, Ne, mon, fun_type):\n",
    "    \n",
    "    tx_ok = np.empty((Nr))\n",
    "    RMSE_ep = np.empty(0)\n",
    "    fun_type = \"log\"\n",
    "\n",
    "    if fun_type == \"tanh\":\n",
    "        #codificação da saída fica -1 e 1 para tangente hiperbólica\n",
    "        Y[Y == 0] = -1\n",
    "        Y_test[Y == 0] = -1\n",
    "\n",
    "    #Arquitetura da MLP (p, q, c) - 1 Camada Ocula\n",
    "    #p = entradas, q = neuronicos oculos, c = neuronios de saída\n",
    "    #dict_q Número de neuronios em cada camada\n",
    "\n",
    "    dict_q = {\n",
    "        0: 86,\n",
    "        1: Y.shape[1]\n",
    "    }\n",
    "\n",
    "    tic = time.perf_counter()\n",
    "    for r in range(Nr):\n",
    "        W = weight_matrix(dict_q)\n",
    "        W_old = W.copy()\n",
    "\n",
    "        for ep in range(Ne):\n",
    "            rand_index = np.random.permutation(X.shape[0])\n",
    "            X = X[rand_index,:]\n",
    "            Y = Y[rand_index,:]\n",
    "            RMSE = 0\n",
    "\n",
    "            for i in range(X.shape[0]):\n",
    "                x = np.append(-1, X[i,:])\n",
    "                U1 = np.dot(W[0], x)\n",
    "                z, dz = act_fun(U1, fun_type)\n",
    "\n",
    "                z = np.append(-1, z)\n",
    "                U2 = np.dot(W[1], z)\n",
    "                y, dy = act_fun(U2, fun_type)\n",
    "\n",
    "                err = Y[i,:] - y\n",
    "\n",
    "                RMSE = RMSE + 0.5*np.power(err,2).sum()\n",
    "\n",
    "                err = np.expand_dims(Hardamad_Prod(err, dy),  1)\n",
    "\n",
    "                x = np.expand_dims(x,1)\n",
    "                z = np.expand_dims(z,1)\n",
    "\n",
    "\n",
    "                W[0] = W[0] + eta*np.dot(Hardamad_Prod(dz, np.dot(\n",
    "                    W[1][:,1:].T, err)), x.T) + mon*(W[0] - W_old[0])\n",
    "                \n",
    "                W[1] = W[1] + eta*np.dot(err, z.T) + mon*(W[1] - W_old[1])\n",
    "\n",
    "                W_old = W.copy()\n",
    "\n",
    "            RMSE_ep = np.append(RMSE_ep, RMSE/X.shape[0])\n",
    "\n",
    "        count = 0\n",
    "        for j in range(X_test.shape[0]):\n",
    "            x = np.append(-1, X_test[j,:])\n",
    "            U1 = np.dot(W[0], x)\n",
    "            z = act_fun(U1, fun_type).f\n",
    "            z = np.append(-1, z)\n",
    "            U2 = np.dot(W[1], z)\n",
    "            y = act_fun(U2, fun_type).f\n",
    "\n",
    "            if Y_test[j,:].argmax() == y.argmax():\n",
    "                count += 1\n",
    "\n",
    "        tx_ok[r] = count/X_test.shape[0]\n",
    "        print(\"Rodada {} - Taxa de acerto = {:.2%}\".format(r+1, tx_ok[r]))\n",
    "    toc = time.perf_counter()\n",
    "\n",
    "    RMSE_ep = RMSE_ep.reshape((Nr,Ne))\n",
    "    fig, ax = plt.subplots()\n",
    "    for i in range(RMSE_ep.shape[0]):\n",
    "        ax.plot(RMSE_ep[i,:], label = \"Rodada {}\".format(i+1))\n",
    "    ax.legend()\n",
    "    ax.set_ylabel(\"RMSE\")\n",
    "    ax.set_xlabel(\"epochs\")\n",
    "\n",
    "    print(\"\\nTaxa de acerto Média = {:.2%}\".format(tx_ok.mean()))\n",
    "    print(\"Taxa de erro Média = {:.2%}\".format(1-tx_ok.mean()))\n",
    "    print(\"Melhor Taxa de Acerto = {:.2%}\".format(tx_ok.max()))\n",
    "    print(\"Pior Taxa de Acerto = {:.2%}\".format(tx_ok.min()))\n",
    "    print(\"Desv. Pad. Taxa de Acerto = {:.2%}\".format(tx_ok.std()))\n",
    "\n",
    "    return(\"Tempo de Calibração e Validação para {} rodadas = {} segundos\".format(Nr, round(toc-tic, 2)))\n",
    "\n"
   ]
  },
  {
   "cell_type": "code",
   "execution_count": 5,
   "metadata": {},
   "outputs": [
    {
     "name": "stdout",
     "output_type": "stream",
     "text": [
      "Rodada 1 - Taxa de acerto = 96.31%\n",
      "Rodada 2 - Taxa de acerto = 96.62%\n",
      "Rodada 3 - Taxa de acerto = 96.34%\n",
      "Rodada 4 - Taxa de acerto = 96.74%\n",
      "Rodada 5 - Taxa de acerto = 96.51%\n",
      "\n",
      "Taxa de acerto Média = 96.50%\n",
      "Taxa de erro Média = 3.50%\n",
      "Melhor Taxa de Acerto = 96.74%\n",
      "Pior Taxa de Acerto = 96.31%\n",
      "Desv. Pad. Taxa de Acerto = 0.16%\n"
     ]
    },
    {
     "data": {
      "text/plain": [
       "'Tempo de Calibração e Validação para 5 rodadas = 2007.28 segundos'"
      ]
     },
     "execution_count": 5,
     "metadata": {},
     "output_type": "execute_result"
    },
    {
     "data": {
      "image/png": "[encoded data removed]",
      "text/plain": [
       "<Figure size 432x288 with 1 Axes>"
      ]
     },
     "metadata": {
      "needs_background": "light"
     },
     "output_type": "display_data"
    }
   ],
   "source": [
    "X, Y = MNIST_data.get_train_data()\n",
    "X_test, Y_test = MNIST_data.get_test_data()\n",
    "    \n",
    "Y = one_hot_enconding(Y, 10)\n",
    "Y_test = one_hot_enconding(Y_test, 10)\n",
    "\n",
    "X = norm_data(X)\n",
    "X_test = norm_data(X_test)\n",
    "\n",
    "#LP(X, Y, X_test, Y_test, eta, Nr, Ne, mon, fun_type)\n",
    "MLP (X, Y, X_test, Y_test, 0.05, 5, 5, 0.75, \"log\")"
   ]
  },
  {
   "cell_type": "markdown",
   "metadata": {},
   "source": [
    "##### PCA + MLP"
   ]
  },
  {
   "cell_type": "code",
   "execution_count": 6,
   "metadata": {},
   "outputs": [
    {
     "name": "stdout",
     "output_type": "stream",
     "text": [
      "Dimensão da matriz de dados de treino antes do PCA: (60000, 784)\n",
      "Dimensão da matriz de dados de teste antes do PCA: (10000, 784)\n",
      "Dimensão da matriz de dados de treino após PCA (95% da variância): (60000, 153)\n",
      "Dimensão da matriz de dados de teste após PCA (95% da variância): (10000, 153)\n",
      "Rodada 1 - Taxa de acerto = 87.08%\n",
      "Rodada 2 - Taxa de acerto = 87.05%\n",
      "Rodada 3 - Taxa de acerto = 87.13%\n",
      "Rodada 4 - Taxa de acerto = 87.12%\n",
      "Rodada 5 - Taxa de acerto = 87.27%\n",
      "\n",
      "Taxa de acerto Média = 87.13%\n",
      "Taxa de erro Média = 12.87%\n",
      "Melhor Taxa de Acerto = 87.27%\n",
      "Pior Taxa de Acerto = 87.05%\n",
      "Desv. Pad. Taxa de Acerto = 0.08%\n"
     ]
    },
    {
     "data": {
      "text/plain": [
       "'Tempo de Calibração e Validação para 5 rodadas = 1522.55 segundos'"
      ]
     },
     "execution_count": 6,
     "metadata": {},
     "output_type": "execute_result"
    },
    {
     "data": {
      "image/png": "[encoded data removed]",
      "text/plain": [
       "<Figure size 432x288 with 1 Axes>"
      ]
     },
     "metadata": {
      "needs_background": "light"
     },
     "output_type": "display_data"
    },
    {
     "data": {
      "image/png": "[encoded data removed]",
      "text/plain": [
       "<Figure size 432x288 with 1 Axes>"
      ]
     },
     "metadata": {
      "needs_background": "light"
     },
     "output_type": "display_data"
    }
   ],
   "source": [
    "X, Y = MNIST_data.get_train_data()\n",
    "X_test, Y_test = MNIST_data.get_test_data()\n",
    "    \n",
    "Y = one_hot_enconding(Y, 10)\n",
    "Y_test = one_hot_enconding(Y_test, 10)\n",
    "\n",
    "X = norm_data(X)\n",
    "X_test = norm_data(X_test)\n",
    "\n",
    "print(\"Dimensão da matriz de dados de treino antes do PCA: {}\".format(X.shape))\n",
    "print(\"Dimensão da matriz de dados de teste antes do PCA: {}\".format(X_test.shape))\n",
    "#A base de dados do MNIST é disponibilizada no seguinte padrão nxp\n",
    "#n é o número de amostras, p o número de característica\n",
    "#Para aplicação do PCA, deve-se transpor essa matriz para que se torne pxn\n",
    "\n",
    "X, X_test = PCA(X.T, X_test.T, compress = True, spt_point = 0.95)\n",
    "print(\"Dimensão da matriz de dados de treino após PCA (95% da variância): {}\".format(X.shape))\n",
    "print(\"Dimensão da matriz de dados de teste após PCA (95% da variância): {}\\n\".format(X_test.shape))\n",
    "\n",
    "#PS (X, Y, X_test, Y_test, eta, Nr, Ne, fun_type)\n",
    "MLP (X, Y, X_test, Y_test, 0.01, 5, 5, 0.75, \"log\")\n"
   ]
  },
  {
   "cell_type": "markdown",
   "metadata": {},
   "source": [
    "***"
   ]
  },
  {
   "cell_type": "markdown",
   "metadata": {},
   "source": [
    "##### Ensemble (M = 25 Perceptrons Logísticos)"
   ]
  },
  {
   "cell_type": "code",
   "execution_count": 27,
   "metadata": {},
   "outputs": [],
   "source": [
    "def act_fun(u, fun):\n",
    "\n",
    "    if fun == \"step\":\n",
    "        u[np.where(u >= 0)] = 1\n",
    "        u[np.where(u < 0)] = 0\n",
    "\n",
    "    elif fun == \"tanh\":\n",
    "        u = np.array(list(map(lambda x: (1-np.exp(-x))/(1+np.exp(-x)), u)))\n",
    "    \n",
    "    elif fun == \"log\":\n",
    "        u = np.array(list(map(lambda x: 1/(1+np.exp(-x)), u)))\n",
    "    \n",
    "    return u \n",
    "\n",
    "def bagging_sampler(x, y):\n",
    "    baggin_index = np.random.randint(0, x.shape[0], size = x.shape[0])\n",
    "\n",
    "    x = x[baggin_index,:]\n",
    "    y = y[baggin_index,:]\n",
    "\n",
    "    return (x,y)\n",
    "\n",
    "def initialize_weights(shape, Number_machine):\n",
    "    W = {}\n",
    "    for i in range(Number_machine):\n",
    "        W[i] = np.random.rand(shape[0], shape[1])\n",
    "    return W"
   ]
  },
  {
   "cell_type": "code",
   "execution_count": 30,
   "metadata": {},
   "outputs": [
    {
     "name": "stdout",
     "output_type": "stream",
     "text": [
      "Dimensão da matriz de dados de treino antes do PCA: (60000, 784)\n",
      "Dimensão da matriz de dados de teste antes do PCA: (10000, 784)\n",
      "Dimensão da matriz de dados de treino após PCA (95% da variância): (60000, 153)\n",
      "Dimensão da matriz de dados de teste após PCA (95% da variância): (10000, 153)\n",
      "\n",
      "Rodada 1, Acerto do Ensemble 88.46%\n",
      "Rodada 2, Acerto do Ensemble 88.37%\n",
      "Rodada 3, Acerto do Ensemble 88.55%\n",
      "Rodada 4, Acerto do Ensemble 88.47%\n",
      "Rodada 5, Acerto do Ensemble 88.52%\n"
     ]
    },
    {
     "data": {
      "image/png": "[encoded data removed]",
      "text/plain": [
       "<Figure size 432x288 with 1 Axes>"
      ]
     },
     "metadata": {
      "needs_background": "light"
     },
     "output_type": "display_data"
    }
   ],
   "source": [
    "X, Y = MNIST_data.get_train_data()\n",
    "X_test, Y_test = MNIST_data.get_test_data()\n",
    "    \n",
    "Y = one_hot_enconding(Y, 10)\n",
    "Y_test = one_hot_enconding(Y_test, 10)\n",
    "\n",
    "X = norm_data(X)\n",
    "X_test = norm_data(X_test)\n",
    "\n",
    "print(\"Dimensão da matriz de dados de treino antes do PCA: {}\".format(X.shape))\n",
    "print(\"Dimensão da matriz de dados de teste antes do PCA: {}\".format(X_test.shape))\n",
    "#A base de dados do MNIST é disponibilizada no seguinte padrão nxp\n",
    "#n é o número de amostras, p o número de característica\n",
    "#Para aplicação do PCA, deve-se transpor essa matriz para que se torne pxn\n",
    "\n",
    "X, X_test = PCA(X.T, X_test.T, compress = True, spt_point = 0.95)\n",
    "print(\"Dimensão da matriz de dados de treino após PCA (95% da variância): {}\".format(X.shape))\n",
    "print(\"Dimensão da matriz de dados de teste após PCA (95% da variância): {}\\n\".format(X_test.shape))\n",
    "\n",
    "eta = 0.01\n",
    "Ne = 10\n",
    "Nr = 5\n",
    "Nm = 25 #Número de Máquinas do Ensemble\n",
    "fun_type = \"log\"\n",
    "tx_ok = np.empty((Nr))\n",
    "RMSE_ep = np.empty(0)\n",
    "\n",
    "tic = time.perf_counter()\n",
    "for r in range(Nr):\n",
    "    count_m = np.full(Nm, np.nan) #contado para taxa de acerto de cada máquina\n",
    "    W = initialize_weights(shape = (Y.shape[1], X.shape[1] + 1), Number_machine = Nm)\n",
    "\n",
    "    for m in range(Nm):\n",
    "        #X_m e Y_m são as entradas de cada um dos m integrantes do ensemble\n",
    "        #A diversificação é feita através do Bagging, amostrador com repetição\n",
    "        X_m, Y_m = bagging_sampler(X, Y)\n",
    "\n",
    "        for e in range(Ne):\n",
    "            #Embaralhamento para cada época\n",
    "            rand_index = np.random.permutation(X_m.shape[0])\n",
    "            X_m = X_m[rand_index,:]\n",
    "            Y_m = Y_m[rand_index,:]\n",
    "            RMSE = 0\n",
    "            for i in range(X_m.shape[0]):\n",
    "                x = np.append(-1, X_m[i,:])\n",
    "                U = np.dot(W[m], x)\n",
    "                y = act_fun(U, fun_type)\n",
    "                err = Y_m[i,:] - y\n",
    "\n",
    "                x = np.expand_dims(x,1)\n",
    "                err = np.expand_dims(err, 1)\n",
    "\n",
    "                RMSE = RMSE + 0.5*np.power(err,2).sum()\n",
    "                #Atualiza os pesos da m-ésimo integrante do ensemble\n",
    "                W[m] = W[m] + eta*np.dot(err, x.T)\n",
    "        #Cálculo dos pesos para cada integrante do ensemble\n",
    "        #Os integrantes do ensemble serão agregados através de uma média ponderada\n",
    "        #A ponderação será dada pela taxa de acerto de cada integrante, calculada abaixo\n",
    "        count = 0\n",
    "        for j in range(X_test.shape[0]):\n",
    "            x = np.append(-1, X_test[j,:])\n",
    "            U = np.dot(W[m], x)\n",
    "            y = act_fun(U, fun_type)\n",
    "            if Y_test[j,:].argmax() == y.argmax():\n",
    "                count += 1\n",
    "\n",
    "        count_m[m] = count/X_test.shape[0]\n",
    "    \n",
    "    count_ensemble = 0\n",
    "    for j in range(X_test.shape[0]):\n",
    "        num = 0\n",
    "        for m in range(Nm):\n",
    "            x = np.append(-1, X_test[j,:])\n",
    "            U = np.dot(W[m], x)\n",
    "            y = act_fun(U, fun_type)\n",
    "            num = num + y*count_m[m]\n",
    "            #num acumula o produto da saída por sua taxa de acerto\n",
    "        y_m = num/count_m.sum()\n",
    "        #y_m é a saída ponderada de cada integrante do ensemble\n",
    "        if Y_test[j,:].argmax() == y_m.argmax():\n",
    "            count_ensemble += 1\n",
    "    print (\"Rodada {}, Acerto do Ensemble = {:.2%}\".format(r+1, count_ensemble/X_test.shape[0]))\n",
    "    \n",
    "toc = time.perf_counter()\n",
    "\n",
    "print(\"Tempo de Calibração e Validação para {} rodadas = {} segundos\".format(Nr, round(toc-tic, 2)))\n",
    "\n"
   ]
  },
  {
   "cell_type": "markdown",
   "metadata": {},
   "source": [
    "***"
   ]
  },
  {
   "cell_type": "markdown",
   "metadata": {},
   "source": [
    "##### Ensemble (M = 25 MLPs)\n",
    "Tendo em vista o tempo necessário para treinamento das MLPs acima apresentadas, optou-se pela utilização da biblioteca scikit-learn para realização do ensemble de 25 MLPs por ela ter um processamento mais otimizado."
   ]
  },
  {
   "cell_type": "code",
   "execution_count": null,
   "metadata": {},
   "outputs": [],
   "source": []
  },
  {
   "cell_type": "markdown",
   "metadata": {},
   "source": [
    "***"
   ]
  },
  {
   "cell_type": "markdown",
   "metadata": {},
   "source": [
    "##### Classificador Adicinal (Extreme Learning Machine - ELM) + PCA\n"
   ]
  },
  {
   "cell_type": "code",
   "execution_count": 51,
   "metadata": {},
   "outputs": [
    {
     "name": "stdout",
     "output_type": "stream",
     "text": [
      "Dimensão da matriz de dados de treino antes do PCA: (60000, 784)\n",
      "Dimensão da matriz de dados de teste antes do PCA: (10000, 784)\n",
      "Dimensão da matriz de dados de treino após PCA (95% da variância): (60000, 153)\n",
      "Dimensão da matriz de dados de teste após PCA (95% da variância): (10000, 153)\n",
      "\n",
      "Rodada 1, Taxa de acerto 80.55%\n",
      "Rodada 2, Taxa de acerto 80.55%\n",
      "Rodada 3, Taxa de acerto 80.55%\n",
      "Rodada 4, Taxa de acerto 80.55%\n",
      "Rodada 5, Taxa de acerto 80.55%\n",
      "\n",
      "Taxa de acerto Média = 80.55%\n",
      "Taxa de erro Média = 19.45%\n",
      "Melhor Taxa de Acerto = 80.55%\n",
      "Pior Taxa de Acerto = 80.55%\n",
      "Desv. Pad. Taxa de Acerto = 0.00%\n",
      "\n",
      "Tempo de Calibração e Validação para 5 rodadas = 186.7 segundos\n"
     ]
    },
    {
     "data": {
      "image/png": "[encoded data removed]",
      "text/plain": [
       "<Figure size 432x288 with 1 Axes>"
      ]
     },
     "metadata": {
      "needs_background": "light"
     },
     "output_type": "display_data"
    }
   ],
   "source": [
    "def act_fun(u,fun):\n",
    "\n",
    "    if fun == \"step\":\n",
    "        u[np.where(u >= 0)] = 1\n",
    "        u[np.where(u < 0)] = 0\n",
    "\n",
    "    elif fun == \"tanh\":\n",
    "        u = np.array(list(map(lambda x: (1-np.exp(-x))/(1+np.exp(-x)), u)))\n",
    "    \n",
    "    elif fun == \"log\":\n",
    "        u = np.array(list(map(lambda x: 1/(1+np.exp(-x)), u)))\n",
    "    \n",
    "    return u \n",
    "\n",
    "X, Y = MNIST_data.get_train_data()\n",
    "X_test, Y_test = MNIST_data.get_test_data()\n",
    "    \n",
    "Y = one_hot_enconding(Y, 10)\n",
    "Y_test = one_hot_enconding(Y_test, 10)\n",
    "\n",
    "X = norm_data(X)\n",
    "X_test = norm_data(X_test)\n",
    "\n",
    "print(\"Dimensão da matriz de dados de treino antes do PCA: {}\".format(X.shape))\n",
    "print(\"Dimensão da matriz de dados de teste antes do PCA: {}\".format(X_test.shape))\n",
    "#A base de dados do MNIST é disponibilizada no seguinte padrão nxp\n",
    "#n é o número de amostras, p o número de característica\n",
    "#Para aplicação do PCA, deve-se transpor essa matriz para que se torne pxn\n",
    "\n",
    "X, X_test = PCA(X.T, X_test.T, compress = True, spt_point = 0.95)\n",
    "print(\"Dimensão da matriz de dados de treino após PCA (95% da variância): {}\".format(X.shape))\n",
    "print(\"Dimensão da matriz de dados de teste após PCA (95% da variância): {}\\n\".format(X_test.shape))\n",
    "\n",
    "#Transpondo para aproveitar uma implementação desenvolvida durante as aulas da disciplina\n",
    "X, Y = (X.T, Y.T)\n",
    "X_test, Y_test = (X_test.T, Y_test.T)\n",
    "\n",
    "fun_type = \"log\"\n",
    "\n",
    "Nr = 5\n",
    "q = 86\n",
    "tx_ok = np.empty(Nr)\n",
    "W = np.random.normal(loc = 0, scale = 0.1, size = (q, X.shape[0]+1))\n",
    "\n",
    "tic = time.perf_counter()\n",
    "for r in range(Nr):\n",
    "\n",
    "    rand_index = np.random.permutation(X.shape[1])\n",
    "\n",
    "    X = X[:,rand_index]\n",
    "    Y = Y[:,rand_index]\n",
    "\n",
    "    Z = []\n",
    "\n",
    "    for i in range(X.shape[1]):\n",
    "        x = np.append(-1, X[:,i])\n",
    "        U1 = np.dot(W, x)\n",
    "        z = act_fun(U1, fun_type)\n",
    "        z = np.append(-1, z)\n",
    "        Z.append(z)\n",
    "\n",
    "    Z = np.array(Z)\n",
    "    \n",
    "    tic2 = time.perf_counter()\n",
    "    \n",
    "    M = np.dot(Y, np.linalg.pinv(Z.T))\n",
    "    \n",
    "    count = 0\n",
    "\n",
    "    for j in range(X_test.shape[1]):\n",
    "        x = np.append(-1, X_test[:,j])\n",
    "        U1 = np.dot(W,x)\n",
    "        z = act_fun(U1, fun_type)\n",
    "        z = np.append(-1, z)\n",
    "        y = np.dot(M, z)\n",
    "\n",
    "        if Y_test[:,j].argmax() == y.argmax():\n",
    "            count += 1\n",
    "    tx_ok[r] = count/X_test.shape[1]\n",
    "    print(\"Rodada {}, Taxa de acerto {:.2%}\".format(r+1, count/X_test.shape[1]))\n",
    "toc = time.perf_counter()\n",
    "\n",
    "print(\"\\nTaxa de acerto Média = {:.2%}\".format(tx_ok.mean()))\n",
    "print(\"Taxa de erro Média = {:.2%}\".format(1-tx_ok.mean()))\n",
    "print(\"Melhor Taxa de Acerto = {:.2%}\".format(tx_ok.max()))\n",
    "print(\"Pior Taxa de Acerto = {:.2%}\".format(tx_ok.min()))\n",
    "print(\"Desv. Pad. Taxa de Acerto = {:.2%}\".format(tx_ok.std()))\n",
    "\n",
    "print(\"\\nTempo de Calibração e Validação para {} rodadas = {} segundos\".format(Nr, round(toc-tic, 2)))"
   ]
  },
  {
   "cell_type": "markdown",
   "metadata": {},
   "source": [
    "<div class=\"alert alert-block alert-warning\">\n",
    "S2\n",
    "</div>"
   ]
  },
  {
   "cell_type": "markdown",
   "metadata": {},
   "source": [
    "<div class=\"alert alert-block alert-info\">\n",
    "S2\n",
    "</div>"
   ]
  },
  {
   "cell_type": "markdown",
   "metadata": {},
   "source": [
    "<div class=\"alert alert-block alert-success\">\n",
    "S2\n",
    "</div>"
   ]
  },
  {
   "cell_type": "markdown",
   "metadata": {},
   "source": [
    "<div class=\"alert alert-block alert-danger\">\n",
    "S2\n",
    "</div>"
   ]
  },
  {
   "cell_type": "code",
   "execution_count": null,
   "metadata": {},
   "outputs": [],
   "source": []
  }
 ],
 "metadata": {
  "kernelspec": {
   "display_name": "Python 3 (ipykernel)",
   "language": "python",
   "name": "python3"
  },
  "language_info": {
   "codemirror_mode": {
    "name": "ipython",
    "version": 3
   },
   "file_extension": ".py",
   "mimetype": "text/x-python",
   "name": "python",
   "nbconvert_exporter": "python",
   "pygments_lexer": "ipython3",
   "version": "3.7.13"
  }
 },
 "nbformat": 4,
 "nbformat_minor": 2
}
