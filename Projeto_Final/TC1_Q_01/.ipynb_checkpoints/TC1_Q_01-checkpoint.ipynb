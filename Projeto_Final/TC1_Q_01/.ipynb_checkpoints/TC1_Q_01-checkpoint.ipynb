{
 "cells": [
  {
   "cell_type": "markdown",
   "metadata": {},
   "source": [
    "### <b> Trabalho Final - Inteligência Computacional Aplicada (TIP7077) </b>\n",
    "#### <b> Aluno: Carlos Eduardo Sousa Lima </b>\n",
    "#### <b> Prof. Guilherme de Alencar Barreto </b>\n",
    "***"
   ]
  },
  {
   "cell_type": "markdown",
   "metadata": {},
   "source": [
    "#### <b>Questão 01 - Classificação de Padrões - MNIST database of handwritten digits </b>"
   ]
  },
  {
   "cell_type": "markdown",
   "metadata": {},
   "source": [
    "As classes e funções apresentadas no bloco de código abaixo foram comuns a todos os classificadores implementados. Nelas, estão implementadas a leitura dos dados, adequação da codificação do vetor de saída (alvo) e normalização dos dados. A seguir, cada uma delas é melhor descrita:\n",
    "- MNIST_data:<br>\n",
    "\n",
    "    Essa classe foi criada para conter as funções de aquisição dos dados de treino <b>get_train_data()</b> e dados de teste <b>get_test_data()</b>. Essas funções utilizam a biblioteca mnist (#https://pypi.org/project/python-mnist/#description), a qual, a partir dos dados obtidos em http://yann.lecun.org/exdb/mnist/index.html, descomprime e transforma-os em um objeto Numpy Array (np.array). Cada uma dessas funções retornam dois objetos np.array, um com os dados de entrada e o outro com seus respectivos labels. Os dados de entrada são retornados de forma vetorizada, ou seja, a matriz 28x28 é empilhada dando origem a um vetor 784x1. Os labels são o valor inteiro entre 0 e 9 que esse vetor representa.\n",
    "\n",
    "    Cabe destacar que a base de dados de treino possuem 60.000 elementos e a de teste 10.000 elementos. Dessa forma, os dados de entrada formam uma matriz 60.000 x 738, para a base de treino, e 10.000 x 738, para a base de teste. Os labels, por sua vez, forma um vetor de 60.000 x 1, para a base de treino, e 10.000 x 1, para a base de teste\n",
    "\n",
    "    <div class=\"alert alert-block alert-info\">\n",
    "    \n",
    "    Nota-se que cada elemento representa uma linha e suas características são ordenadas ao longo de suas colunas, o que diverge da ordenação empregada ao longo da disciplina.\n",
    "    Optou-se por manter essa ordenação, assim, algumas operações matriciais podem apresentar uma ordem contrária à apresentada nas notas de aula, por exemplo: <br>\n",
    "    \n",
    "    $\\vec{y} = \\tilde{W} \\cdot \\vec{x}$ (notas de aula)<br> \n",
    "    $\\vec{y} = \\vec{x} \\cdot \\tilde{W}$ (seguindo a notação adotada no trabalho)\n",
    "    </div>\n",
    "\n",
    "- one_hot_enconding():\n",
    "\n",
    "    Essa função altera o formato do vetor labels. Como supracitado, os labels são os respectivos números inteiros representados por cada elemento da base de dados\n"
   ]
  },
  {
   "cell_type": "markdown",
   "metadata": {},
   "source": [
    "<p style=\"page-break-after:always;\"></p>"
   ]
  },
  {
   "cell_type": "code",
   "execution_count": null,
   "metadata": {},
   "outputs": [],
   "source": [
    "import numpy as np\n",
    "from mnist import MNIST #https://pypi.org/project/python-mnist/#description\n",
    "import matplotlib.pyplot as plt\n",
    "\n",
    "class MNIST_data():\n",
    "\n",
    "    def __init__(self):\n",
    "        pass\n",
    "    \n",
    "    def get_train_data():\n",
    "        \n",
    "        mndata = MNIST(\"./\")\n",
    "        mndata.gz = True\n",
    "        x, y = mndata.load_training()\n",
    "\n",
    "        return (np.array(x), np.array(y))\n",
    "    \n",
    "    def get_test_data():\n",
    "        \n",
    "        mndata = MNIST(\"./\")\n",
    "        mndata.gz = True\n",
    "        x, y = mndata.load_testing()\n",
    "\n",
    "        return (np.array(x), np.array(y))\n",
    "\n",
    "def one_hot_enconding(y, n):\n",
    "\n",
    "    y_enc = np.zeros((y.shape[0], n))\n",
    "    for i in range(y.shape[0]):\n",
    "        y_enc[i, y[i]] = 1\n",
    "\n",
    "    return y_enc\n",
    "\n",
    "def norm_data(df):\n",
    "    df_std = np.zeros(df.shape)\n",
    "\n",
    "    for i in range(df.shape[0]):\n",
    "        # df_std[i,:] = (df[i,:] - df[i,:].mean())/(df[i,:].std(ddof = std_ddof))\n",
    "        df_std[i,:] = (df[i,:] - df[i,:].min())/(df[i,:].max() - df[i,:].min())\n",
    "    return df_std"
   ]
  },
  {
   "cell_type": "markdown",
   "metadata": {},
   "source": [
    "##### Classificador Linear de Mínimos Quadrados"
   ]
  },
  {
   "cell_type": "code",
   "execution_count": 3,
   "metadata": {},
   "outputs": [
    {
     "name": "stdout",
     "output_type": "stream",
     "text": [
      "Matriz de dados de Posto Incompleto\n"
     ]
    },
    {
     "name": "stderr",
     "output_type": "stream",
     "text": [
      "c:\\Users\\ce-li\\Anaconda3\\envs\\Doutorado\\lib\\site-packages\\ipykernel_launcher.py:28: FutureWarning: `rcond` parameter will change to the default of machine precision times ``max(M, N)`` where M and N are the input matrix dimensions.\n",
      "To use the future default and silence this warning we advise to pass `rcond=None`, to keep using the old, explicitly pass `rcond=-1`.\n"
     ]
    },
    {
     "name": "stdout",
     "output_type": "stream",
     "text": [
      "\n",
      "Taxa de acerto Média = 85.33% \n",
      "\n",
      "Taxa de erro Média = 14.67% \n",
      "\n",
      "Melhor Taxa de Acerto = 85.37% \n",
      "\n",
      "Pior Taxa de Acerto = 85.32% \n",
      "\n",
      "Desv. Pad. Taxa de Acerto = 0.01%\n",
      "\n"
     ]
    }
   ],
   "source": [
    "# O código está utilizando a orientação nxp\n",
    "# n é o número de amostras, p o número de característica\n",
    "# As operações matriciais apresentam ordem contrária ao apresentando nas notas de aula\n",
    "# Y = W*X (Nota de Aula) - Y = X*W (Presente Código)\n",
    "\n",
    "Nr = 10\n",
    "X, Y = MNIST_data.get_train_data()\n",
    "X_test, Y_test = MNIST_data.get_test_data()\n",
    "    \n",
    "if np.linalg.matrix_rank(X) == min(X.shape):\n",
    "    print(\"Matrix de dados de Posto Completo\")\n",
    "else:\n",
    "    print(\"Matriz de dados de Posto Incompleto\")\n",
    "\n",
    "Y = one_hot_enconding(Y, 10)\n",
    "Y_test = one_hot_enconding(Y_test, 10)\n",
    "\n",
    "X = norm_data(X)\n",
    "X_test = norm_data(X_test)\n",
    "\n",
    "tx_ok = np.zeros(Nr)\n",
    "for i in range(Nr):\n",
    "    rand_index = np.random.permutation(X.shape[0])\n",
    "    X = X[rand_index,:]\n",
    "    Y = Y[rand_index,:]\n",
    "\n",
    "    if X.shape[0] != X.shape[1]:\n",
    "        W = np.linalg.lstsq(X,Y)[0]\n",
    "    else:\n",
    "        W = np.linalg.solve(X,Y)[0]\n",
    "\n",
    "    Y_mod = np.dot(X_test, W)\n",
    "\n",
    "    count_ok = 0\n",
    "\n",
    "    for j in range(Y_mod.shape[0]):\n",
    "        if Y_mod[j,:].argmax() == Y_test[j,:].argmax():\n",
    "            count_ok += 1\n",
    "    \n",
    "    tx_ok[i] = count_ok/Y_mod.shape[0]\n",
    "\n",
    "print('''\n",
    "Taxa de acerto Média = {:.2%} \\n\n",
    "Taxa de erro Média = {:.2%} \\n\n",
    "Melhor Taxa de Acerto = {:.2%} \\n\n",
    "Pior Taxa de Acerto = {:.2%} \\n\n",
    "Desv. Pad. Taxa de Acerto = {:.2%}\n",
    "'''.format(tx_ok.mean(), 1-tx_ok.mean(),\n",
    "    tx_ok.max(), tx_ok.min(), tx_ok.std()))\n"
   ]
  },
  {
   "cell_type": "markdown",
   "metadata": {},
   "source": [
    "<div class=\"alert alert-block alert-warning\">\n",
    "S2\n",
    "</div>"
   ]
  },
  {
   "cell_type": "markdown",
   "metadata": {},
   "source": [
    "<div class=\"alert alert-block alert-info\">\n",
    "S2\n",
    "</div>"
   ]
  },
  {
   "cell_type": "markdown",
   "metadata": {},
   "source": [
    "<div class=\"alert alert-block alert-success\">\n",
    "S2\n",
    "</div>"
   ]
  },
  {
   "cell_type": "markdown",
   "metadata": {},
   "source": [
    "<div class=\"alert alert-block alert-danger\">\n",
    "S2\n",
    "</div>"
   ]
  },
  {
   "cell_type": "code",
   "execution_count": null,
   "metadata": {},
   "outputs": [],
   "source": []
  }
 ],
 "metadata": {
  "kernelspec": {
   "display_name": "Python 3 (ipykernel)",
   "language": "python",
   "name": "python3"
  },
  "language_info": {
   "codemirror_mode": {
    "name": "ipython",
    "version": 3
   },
   "file_extension": ".py",
   "mimetype": "text/x-python",
   "name": "python",
   "nbconvert_exporter": "python",
   "pygments_lexer": "ipython3",
   "version": "3.9.7"
  }
 },
 "nbformat": 4,
 "nbformat_minor": 2
}
